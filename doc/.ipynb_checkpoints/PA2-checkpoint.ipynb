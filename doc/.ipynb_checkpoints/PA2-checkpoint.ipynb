{
 "metadata": {
  "name": "",
  "signature": "sha256:2e0ff2e1e99601534fd9c0e75c00682425568b269454fae8fa45cdfd13080131"
 },
 "nbformat": 3,
 "nbformat_minor": 0,
 "worksheets": [
  {
   "cells": [
    {
     "cell_type": "markdown",
     "metadata": {},
     "source": [
      "TODO: fill options\n",
      "# The Square Polynomial approach\n",
      "\n",
      "The square polynomial model can be expressed by\n",
      "\n",
      "\\begin{equation}\n",
      "{\\bf y} = {\\bf Xw} + {\\bf \\epsilon},\n",
      "\\end{equation}\n",
      "where ${\\bf y} = \\left(y^{(1)},\\dotsc,y^{(n)}\\right)$ is the response vector, ${\\bf \\epsilon}$ is a vector of random errors, and \n",
      "\n",
      "\\begin{equation}\n",
      "{\\bf X} =\n",
      "\\begin{bmatrix}\n",
      "    1&x_{1}^{(1)} & \\dots&x_{d}^{(1)} & x_{1}^{(1)}x_{2}^{(1)} & \\dots  & x_{d-1}^{(1)}x_{d}^{(1)}&{x_{1}^{(1)}}^2 & \\dots&{x_{\n",
      "    d}^{(1)}}^2 \\\\\n",
      "    \\vdots&\\vdots & \\dots&\\vdots & \\vdots & \\dots  & \\vdots&\\vdots & \\vdots\\\\\n",
      "    1&x_{1}^{(n)} & \\dots&x_{d}^{(n)} & x_{1}^{(n)}x_{2}^{(n)} & \\dots  & x_{d-1}^{(n)}x_{d}^{(n)}&{x_{1}^{(n)}}^2 & \\dots&{x_{\n",
      "    d}^{(n)}}^2 \\\\\n",
      "\\end{bmatrix}.\n",
      "\\end{equation}\n",
      "The vector of estimated polynomial regression corefficients using ordinary least square estimation is \n",
      "\n",
      "\\begin{equation}\n",
      "{\\bf w} = {\\bf X^TX}^{-1} {\\bf X^Ty}.\n",
      "\\end{equation}\n",
      "\n",
      "<img src=files/square_polynomial.png width=400 height=70 />\n",
      "\n",
      "## Options\n",
      "\n",
      "Automatically generated list of options, their types, default values, and descriptions from the code\n",
      "\n",
      "## Example code"
     ]
    },
    {
     "cell_type": "code",
     "collapsed": false,
     "input": [
      "from __future__ import print_function, division\n",
      "import numpy as np\n",
      "from smt.methods.pa2 import PA2\n",
      "from scipy import linalg\n",
      "from smt.problems import Sphere\n",
      "from smt.sampling import LHS\n",
      "\n",
      "\n",
      "# Initialization of the problem\n",
      "ndim = 10\n",
      "ndoe = int(10*ndim)\n",
      "\n",
      "# Define the function\n",
      "fun = Sphere(ndim = ndim)\n",
      "\n",
      "# Construction of the DOE\n",
      "sampling = LHS(xlimits=fun.xlimits,criterion = 'm')\n",
      "xt = sampling(ndoe)\n",
      "\n",
      "# Compute the output\n",
      "yt = fun(xt)\n",
      "# Compute the gradient\n",
      "for i in range(ndim):\n",
      "    yd = fun(xt,kx=i)\n",
      "    yt = np.concatenate((yt,yd),axis=1)\n",
      "\n",
      "# Construction of the validation points\n",
      "ntest = 500\n",
      "sampling = LHS(xlimits=fun.xlimits)\n",
      "xtest = sampling(ntest)\n",
      "ytest = fun(xtest)\n",
      "\n",
      "########### The PA2 model\n",
      "t = PA2()\n",
      "t.add_training_points('exact',xt,yt[:,0])\n",
      "t.train()\n",
      "y = t.predict_value(xtest)\n",
      "\n",
      "print('PA2,  err: '+str(linalg.norm(y.reshape((ntest,1))-ytest.reshape((ntest,\n",
      "            1)))/linalg.norm(ytest.reshape((ntest,1)))))"
     ],
     "language": "python",
     "metadata": {},
     "outputs": [
      {
       "output_type": "stream",
       "stream": "stdout",
       "text": [
        "___________________________________________________________________________\n",
        "   \n",
        "                                    PA2\n",
        "___________________________________________________________________________\n",
        "   \n",
        " Problem size\n",
        "   \n",
        "      # training points.        : 100\n",
        "   \n",
        "___________________________________________________________________________\n",
        "   \n",
        " Training\n",
        "   \n",
        "   Training ...\n",
        "   Training - done. Time (sec):  0.1329999"
       ]
      },
      {
       "output_type": "stream",
       "stream": "stdout",
       "text": [
        "\n"
       ]
      },
      {
       "ename": "AttributeError",
       "evalue": "'PA2' object has no attribute 'predict_value'",
       "output_type": "pyerr",
       "traceback": [
        "\u001b[1;31m---------------------------------------------------------------------------\u001b[0m\n\u001b[1;31mAttributeError\u001b[0m                            Traceback (most recent call last)",
        "\u001b[1;32m<ipython-input-2-228c661f4ef1>\u001b[0m in \u001b[0;36m<module>\u001b[1;34m()\u001b[0m\n\u001b[0;32m     35\u001b[0m \u001b[0mt\u001b[0m\u001b[1;33m.\u001b[0m\u001b[0madd_training_points\u001b[0m\u001b[1;33m(\u001b[0m\u001b[1;34m'exact'\u001b[0m\u001b[1;33m,\u001b[0m\u001b[0mxt\u001b[0m\u001b[1;33m,\u001b[0m\u001b[0myt\u001b[0m\u001b[1;33m[\u001b[0m\u001b[1;33m:\u001b[0m\u001b[1;33m,\u001b[0m\u001b[1;36m0\u001b[0m\u001b[1;33m]\u001b[0m\u001b[1;33m)\u001b[0m\u001b[1;33m\u001b[0m\u001b[0m\n\u001b[0;32m     36\u001b[0m \u001b[0mt\u001b[0m\u001b[1;33m.\u001b[0m\u001b[0mtrain\u001b[0m\u001b[1;33m(\u001b[0m\u001b[1;33m)\u001b[0m\u001b[1;33m\u001b[0m\u001b[0m\n\u001b[1;32m---> 37\u001b[1;33m \u001b[0my\u001b[0m \u001b[1;33m=\u001b[0m \u001b[0mt\u001b[0m\u001b[1;33m.\u001b[0m\u001b[0mpredict_value\u001b[0m\u001b[1;33m(\u001b[0m\u001b[0mxtest\u001b[0m\u001b[1;33m)\u001b[0m\u001b[1;33m\u001b[0m\u001b[0m\n\u001b[0m\u001b[0;32m     38\u001b[0m \u001b[1;33m\u001b[0m\u001b[0m\n\u001b[0;32m     39\u001b[0m print('PA2,  err: '+str(linalg.norm(y.reshape((ntest,1))-ytest.reshape((ntest,\n",
        "\u001b[1;31mAttributeError\u001b[0m: 'PA2' object has no attribute 'predict_value'"
       ]
      }
     ],
     "prompt_number": 2
    }
   ],
   "metadata": {}
  }
 ]
}