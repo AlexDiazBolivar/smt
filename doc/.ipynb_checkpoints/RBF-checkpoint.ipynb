{
 "metadata": {
  "kernelspec": {
   "display_name": "Python 3",
   "language": "python",
   "name": "python3"
  },
  "language_info": {
   "codemirror_mode": {
    "name": "ipython",
    "version": 3
   },
   "file_extension": ".py",
   "mimetype": "text/x-python",
   "name": "python",
   "nbconvert_exporter": "python",
   "pygments_lexer": "ipython3",
   "version": "3.6.0"
  },
  "name": "",
  "signature": "sha256:990137f738e055e3043a256d7974a40df27a552da812fa21f6c48347b377a11b"
 },
 "nbformat": 3,
 "nbformat_minor": 0,
 "worksheets": [
  {
   "cells": [
    {
     "cell_type": "markdown",
     "metadata": {},
     "source": [
      "# Radial basis functions\n",
      "\n",
      "Text\n",
      "Text\n",
      "Text\n",
      "References\n",
      "Equations\n",
      "\n",
      "## Options\n",
      "\n",
      "| Option | Default | Acceptable values | Acceptable types | Description |\n",
      "| - | - | - | - | - |\n",
      "| data_dir | None | None | ['str'] | Directory for loading / saving cached data; None means do not save or load |\n",
      "| print_solver | True | None | ['bool'] | Whether to print solver information |\n",
      "| print_problem | True | None | ['bool'] | Whether to print problem information |\n",
      "| print_global | True | None | ['bool'] | Global print toggle. If False, all printing is suppressed |\n",
      "| poly_degree | -1 | (-1, 0, 1) | ['int'] | -1 means no global polynomial, 0 means constant, 1 means linear trend |\n",
      "| max_print_depth | 5 | None | ['int'] | Maximum depth (level of nesting) to print operation descriptions and times |\n",
      "| print_training | True | None | ['bool'] | Whether to print training information |\n",
      "| reg | 1e-10 | None | ['int', 'float'] | Regularization coeff. |\n",
      "| d0 | 1.0 | None | ['int', 'float', 'list', 'ndarray'] | basis function scaling parameter in exp(-d^2 / d0^2) |\n",
      "| print_prediction | True | None | ['bool'] | Whether to print prediction information |\n",
      "\n",
      "\n",
      "## Example code\n",
      "\n",
      "We should write the example run code and put it in the tests/methods/ directory. Either the code in tests/methods/test_rbf.py (for instance,) is automatically copied into this ipynb, or if this is not possible, we can copy and paste manually\n",
      "The code will show: instantiation, options, adding training points, training, predicting, predicting derivatives, ...\n"
     ]
    },
    {
     "cell_type": "code",
     "collapsed": false,
     "input": [],
     "language": "python",
     "metadata": {},
     "outputs": []
    }
   ],
   "metadata": {}
  }
 ]
}