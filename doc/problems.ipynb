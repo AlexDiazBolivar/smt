{
 "metadata": {
  "name": "",
  "signature": "sha256:ca16c020320aa73c5af67f7dfe7e080baeee4ad2f432093ba0c2a9b782d07aba"
 },
 "nbformat": 3,
 "nbformat_minor": 0,
 "worksheets": [
  {
   "cells": [
    {
     "cell_type": "markdown",
     "metadata": {},
     "source": [
      "# List of problems\n",
      "TODO: complete the expression of all functions\n",
      "\n",
      "### Analytical functions\n",
      "All figures given here are a 2-D plot.\n",
      "\n",
      "- Sphere function (dimension = $d$)\n",
      "<img src=files/sphere.png width=400 height=70 />\n",
      "\\begin{equation}\n",
      "\\sum\\limits_{i=1}^dx_i^2,\\quad-10\\leq x_i\\leq 10,\\quad\\text{ for }i=1,\\ldots,d.\n",
      "\\end{equation}\n",
      "\n",
      "- Rosenbrock function (dimension = $d$)\n",
      "<img src=files/rosenbrock.png width=400 height=70 />\n",
      "\\begin{equation}\n",
      "\\sum\\limits_{i=1}^{d-1}\\left[(x_{i+1}-x_i^2)^2+(x_i-1)^2\\right],\\quad-2\\leq x_i\\leq 2,\\quad\\text{ for }i=1,\\ldots,d.\n",
      "\\end{equation}\n",
      "\n",
      "- Ndim Rosenbrock function\n",
      "- Tensor Product function (dimension = $d$)\n",
      "\n",
      "All figures for the tensor product function are given with $a=1$.\n",
      "<img src=files/cos_tensor_prod.png width=400 height=70 />\n",
      "\\begin{equation}\n",
      "\\prod\\limits_{i=1}^{d}\\cos(a\\pi x_i),\\quad-1\\leq x_i\\leq 1,\\quad\\text{ for }i=1,\\ldots,d.\n",
      "\\end{equation}\n",
      "<img src=files/exp_tensor_prod.png width=400 height=70 />\n",
      "\\begin{equation}\n",
      "\\prod\\limits_{i=1}^{d}\\exp(x_i),\\quad-1\\leq x_i\\leq 1,\\quad\\text{ for }i=1,\\ldots,d.\n",
      "\\end{equation}\n",
      "<img src=files/tanh_tensor_prod.png width=400 height=70 />\n",
      "\\begin{equation}\n",
      "\\prod\\limits_{i=1}^{d}\\tanh(x_i),\\quad-1\\leq x_i\\leq 1,\\quad\\text{ for }i=1,\\ldots,d.\n",
      "\\end{equation}\n",
      "<img src=files/Gaussian_tensor_prod.png width=400 height=70 />\n",
      "\\begin{equation}\n",
      "\\prod\\limits_{i=1}^{d}\\exp(-2 x_i^2),\\quad-1\\leq x_i\\leq 1,\\quad\\text{ for }i=1,\\ldots,d.\n",
      "\\end{equation}\n",
      "\n",
      "- Ndim Step function\n",
      "\n",
      "### Engineering functions\n",
      "- Cantilever Beam function\n",
      "- Ndim Cantilever Beam function\n",
      "- Robot Arm function (dimension = 8)\n",
      "\\begin{equation*}\n",
      "\\sqrt{\\left(\\sum\\limits_{i=1}^4L_i\\cos\\left(\\sum\\limits_{j=1}^i\\theta_j\\right)\\right)^2+\\left(\\sum\\limits_{i=1}^4L_i\\sin\\left(\\sum\\limits_{j=1}^i\\theta_j\\right)\n",
      "\\right)^2},\\quad L_i \\in [0,1] \\quad \\text{for}\\quad i=1,\\dotsc,4 \\quad \\text{and}\\quad \\theta_j \\in [0,2\\pi]\\quad\\text{for}\\quad j=1,\\dotsc,4.\n",
      "\\end{equation*}\n",
      "\n",
      "- Ndim Robot Arm function\n",
      "- Torsion Vibration function\n",
      "- Water Flow function (dimension = 8)\n",
      "\\begin{equation*}\n",
      "\\frac{2\\pi T_u\\left(H_u-H_l\\right)}{\\ln\\left(\\frac{r}{r_w}\\right)\\left[1+\\frac{2LT_u}{\\ln\\left(\\frac{r}{r_w}\\right)r_w^2K_w}+\\frac{T_u}{T_l}\\right]},\\quad 0.05\\leq r_w\\leq 0.15,\\quad 100\\leq r\\leq 50000,\\quad 63070\\leq T_u\\leq 115600,\\quad 990 \\leq H_u \\leq 1110, \\quad 63.1 \\leq T_l \\leq 116, \\quad 700 \\leq H_l \\leq 820, \\quad 1120 \\leq L \\leq 1680,\\quad \\text{and}\\quad  9855 \\leq K_w \\leq 12045.\n",
      "\\end{equation*}\n",
      "\n",
      "- Welded Beam function\n",
      "- Wing Weight function (dimension = 10)\n",
      "\\begin{equation*}\n",
      "0.036S_w^{0.758}W_{fw}^{0.0035}\\left(\\frac{A}{\\cos^2\\Lambda}\\right)q^{0.006}\\lambda^{0.04}\\left(\\frac{100tc}{\\cos\\Lambda}\\right)^{-0.3}\\left(N_zW_{dg}\\right)^{0.49}+S_wW_p,\\quad 150\\leq S_w\\leq 200,\\quad 220\\leq W_{fw}\\leq 300,\\quad 6 \\leq A \\leq 10,\\quad -10 \\leq \\Lambda \\leq 10,\\quad 16\\leq q\\leq 45,\\quad 0.5\\leq \\lambda\\leq 1,\\quad 0.08 \\leq t_c\\leq 0.18,\\quad 2.5\\leq N_z\\leq 6,\\quad 1700\\leq W_{dg}\\leq 25000,\\quad \\text{and} \\quad 0.025\\leq W_p\\leq 0.08.\n",
      "\\end{equation*}"
     ]
    },
    {
     "cell_type": "markdown",
     "metadata": {},
     "source": [
      "# Example of execution\n",
      "\n"
     ]
    }
   ],
   "metadata": {}
  }
 ]
}