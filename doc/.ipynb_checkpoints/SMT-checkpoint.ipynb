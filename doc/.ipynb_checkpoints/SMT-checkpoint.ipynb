{
 "metadata": {
  "anaconda-cloud": {},
  "kernelspec": {
   "display_name": "Python 2",
   "language": "python",
   "name": "python2"
  },
  "language_info": {
   "codemirror_mode": {
    "name": "ipython",
    "version": 2
   },
   "file_extension": ".py",
   "mimetype": "text/x-python",
   "name": "python",
   "nbconvert_exporter": "python",
   "pygments_lexer": "ipython2",
   "version": "2.7.12"
  },
  "name": "",
  "signature": "sha256:34d8d29650f12ac61d888211c49a584045429932ff511fe8b16454c507e1f0f7"
 },
 "nbformat": 3,
 "nbformat_minor": 0,
 "worksheets": [
  {
   "cells": [
    {
     "cell_type": "heading",
     "level": 1,
     "metadata": {
      "slideshow": {
       "slide_type": "slide"
      }
     },
     "source": [
      "SMT: A Python Surrogate Model Toolbox"
     ]
    },
    {
     "cell_type": "markdown",
     "metadata": {},
     "source": [
      "<img src=\"files/grie5.png\" style=\"margin: 0px 0px 5px 20px; width: 10cm; float: right;\" title=\"Example surrogate model\"/>\n",
      "The surrogate model toolbox (SMT) is a Python package that includes several surrogate models---least squares (LS), square polynomial (PA2), inverse distance weighting (IDW), kriging, PLS-based models (KPLS, KPLS and GEKPLS), radial basis functions (RBF) and regularized minimal-energy tensor-product splines (RMTS).\n",
      "\n",
      "In addition to the different sampling methods available in SMT, many well-known analytical and engineering test functions are implemented as well. Other alternative methods could be easily implemented and added into SMT. \n",
      "Therefore, this package is devoted to gathering several types of surrogate models within the same platform, for providing a benchmark to the engineering field. Another purpose of the SMT is for research purposes and contributing to the literature on the surrogate modeling.\n",
      "\n",
      "# Version 0.1\n",
      "\n",
      "# Availability\n",
      "The toolbox is available for free. It could be used for commercial, research purposes, or both.\n",
      "\n",
      "[To download the package](https://github.com/SMTorg/SMT)\n",
      "\n",
      "# Organisation of SMT\n",
      "SMT is mainly composed of four subdirectories:\n",
      "\n",
      "### <font color='blue'> 1) utils</font>\n",
      "This directory contains some auxiliaries functions used by the surrogate models implemented in SMT.\n",
      "\n",
      "### <font color='blue'> 2) problems</font>\n",
      "This directory ([problems](./problems.html)) contains all analytical and engineering functions available in SMT.\n",
      "\n",
      "### <font color='blue'> 3) sampling</font>\n",
      "This directory ([sampling](./sampling.html)) contains all sampling methods available in SMT.\n",
      "\n",
      "###<font color='blue'> 4) methods</font>\n",
      "This directory contains all surrogate models available in SMT:\n",
      "- [least squares](./LS.html)\n",
      "- [square polynomial](./PA2.html)\n",
      "- [inverse distance weighting](./IDW.html)\n",
      "- [kriging](./Kriging.html)\n",
      "- [kriging combined with partial-least squares](./KPLS.html)\n",
      "- [kriging combined with partial-least squares + kriging](./KPLSK.html)\n",
      "- [gradient-enhanced kriging compined with partial-least squares](./GEKPLS.html)\n",
      "- [radial basis functions](./RBF.html)\n",
      "- [regularized minimal-energy tensor-product splines](./RMTS.html)\n",
      "\n",
      "## People involved\n",
      "\n",
      "SMT is maintained by \n",
      "\n",
      "Mohamed Amine Bouhlel &nbsp;&nbsp;&nbsp; mbouhlel@umich.edu\n",
      "\n",
      "John Hwang &nbsp;&nbsp;&nbsp;&nbsp;&nbsp;&nbsp;&nbsp;&nbsp;&nbsp;&nbsp;&nbsp;&nbsp;&nbsp;&nbsp;&nbsp;&nbsp;&nbsp;&nbsp;&nbsp;&nbsp;&nbsp;&nbsp;&nbsp; hwangjt@umich.edu\n",
      "\n",
      "Nathalie Bartoli &nbsp;&nbsp;&nbsp;&nbsp;&nbsp;&nbsp;&nbsp;&nbsp;&nbsp;&nbsp;&nbsp;&nbsp;&nbsp;&nbsp;&nbsp;&nbsp;&nbsp;&nbsp;&nbsp; nathalie.bartoli@onera.fr\n",
      "\n",
      "#### Last update July 27, 2017"
     ]
    },
    {
     "cell_type": "code",
     "collapsed": false,
     "input": [],
     "language": "python",
     "metadata": {},
     "outputs": []
    }
   ],
   "metadata": {}
  }
 ]
}