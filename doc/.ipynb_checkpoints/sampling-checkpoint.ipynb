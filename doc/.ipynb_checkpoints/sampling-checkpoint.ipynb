{
 "cells": [
  {
   "cell_type": "markdown",
   "metadata": {},
   "source": [
    "# List of sampling methods\n",
    "\n",
    "TODO: - Description of the full factorial sampling and clustered sampling\n",
    "      - Debug clustered sampling in the next section\n",
    "\n",
    "- <font color='blue'>Random sampling</font>\n",
    "\n",
    "This class creates random samples from a uniform distribution over the design space.\n",
    "\n",
    "- <font color='blue'>Latin hypercube sampling (LHS)</font>\n",
    "\n",
    "The LHS design is a statistical method for generating a quasi-random sampling distribution.\n",
    "It is among the most popular sampling techniques in computer experiments thanks to its simplicity and projection properties with high-dimensional problems.\n",
    "LHS is built as follow: we cut each dimension space, wich represents a variable, into $n$ sections with $n$ is the number of sampling points, and we put only one point in each section.\n",
    "\n",
    "<img src=files/LHS.png width=400 height=70 />\n",
    "\n",
    "The figure above gives us an example of an LHS design with 2 variables $x1$ and $x2$ where each column from $x1$-axis and each row from $x2$-axis contain only one point.\n",
    "\n",
    "The LHS method uses the pyDOE package (Design of Experiments for Python) which is available on https://pythonhosted.org/pyDOE/index.html.\n",
    "5 criteria for the construction of LHS are implemented in SMT:\n",
    "- Center the points within the sampling intervals.\n",
    "- Maximize the minimum distance between points and place the point in a randomized location within its interval.\n",
    "- Maximize the minimum distance between points and center the point within its interval.\n",
    "- Minimize the maximum correlation coefficient.\n",
    "- Optimize the design using the Enhanced Stochastic Evolutionary algorithm (ESE).\n",
    "\n",
    "The four first criteria are the same than in pyDOE (for more details, see https://pythonhosted.org/pyDOE/index.html).\n",
    "The last criterion, ESE, is implemented by the authors of SMT (more details about such method could be found in [1]).\n",
    "\n",
    "[1] R. Jin, W. Chen and A. Sudjianto (2005), \"An efficient algorithm for constructing optimal design of computer experiments.\" Journal of Statistical Planning and Inference, 134:268-287.\n",
    "\n",
    "- <font color='blue'>Full factorial sampling</font>\n",
    "\n",
    "TODO\n",
    "\n",
    "- <font color='blue'>Clustered sampling</font>\n",
    "\n",
    "TODO"
   ]
  },
  {
   "cell_type": "markdown",
   "metadata": {},
   "source": [
    "# Example of execution\n",
    "\n",
    "- Random sampling"
   ]
  },
  {
   "cell_type": "code",
   "execution_count": 3,
   "metadata": {
    "collapsed": false
   },
   "outputs": [
    {
     "name": "stdout",
     "output_type": "stream",
     "text": [
      "[[-0.32621047  0.44330388]\n",
      " [-0.65140528 -0.60907381]\n",
      " [ 0.943602    0.17223589]\n",
      " [ 0.37244012 -0.50213554]\n",
      " [-0.31711267 -0.59397383]\n",
      " [-0.37909808  0.85620602]\n",
      " [-0.19449529  0.6150741 ]\n",
      " [ 0.52990615  0.23684907]\n",
      " [ 0.54357284 -0.11042631]\n",
      " [-0.11329261  0.33920528]\n",
      " [ 0.14750796 -0.26079139]\n",
      " [-0.06028515  0.58443679]\n",
      " [-0.31798541  0.10265605]\n",
      " [-0.61885699 -0.78767192]\n",
      " [ 0.32087814  0.55368214]\n",
      " [ 0.66757442 -0.52744198]\n",
      " [-0.7584316  -0.60014469]\n",
      " [-0.93133397 -0.54761892]\n",
      " [-0.55706522  0.50020435]\n",
      " [-0.91007555 -0.13490006]]\n"
     ]
    },
    {
     "data": {
      "image/png": "[encoded data removed]",
      "text/plain": [
       "<matplotlib.figure.Figure at 0x110a58710>"
      ]
     },
     "metadata": {},
     "output_type": "display_data"
    }
   ],
   "source": [
    "# Import the random sampling method\n",
    "from smt.sampling import Clustered\n",
    "import numpy as np\n",
    "import matplotlib.pyplot as plt\n",
    "%matplotlib inline  \n",
    "\n",
    "# Define the bounds of the design space , the number of dimension, and the number of sampling points\n",
    "dim, ndoe = 2, 20\n",
    "xlimits = np.zeros((dim, 2))\n",
    "xlimits[:, 0] = -1\n",
    "xlimits[:, 1] = 1\n",
    "\n",
    "# Construct the Random sampling points and store into x\n",
    "sampling = Clustered(kernel=Random(xlimits = xlimits))\n",
    "x = sampling(ndoe)\n",
    "\n",
    "# Print results\n",
    "print(x)\n",
    "plt.figure()\n",
    "plt.plot(x[:,0],x[:,1],'.')\n",
    "plt.show()"
   ]
  },
  {
   "cell_type": "markdown",
   "metadata": {},
   "source": [
    "- Latin hypercube sampling (LHS)"
   ]
  },
  {
   "cell_type": "code",
   "execution_count": 27,
   "metadata": {
    "collapsed": false
   },
   "outputs": [
    {
     "name": "stdout",
     "output_type": "stream",
     "text": [
      "[[ 0.64524292 -0.29743303]\n",
      " [-0.0204177   0.92019059]\n",
      " [ 0.8354098   0.19509246]\n",
      " [-0.88957522  0.58885892]\n",
      " [ 0.79773098  0.69044532]\n",
      " [ 0.50005119 -0.93006306]\n",
      " [-0.3965959  -0.37489526]\n",
      " [ 0.21564176 -0.50386742]\n",
      " [ 0.02865156  0.44491897]\n",
      " [-0.14773073 -0.79682888]\n",
      " [ 0.97929667 -0.64094207]\n",
      " [-0.41578805  0.85301762]\n",
      " [ 0.38205573  0.73199736]\n",
      " [-0.79158846 -0.08366045]\n",
      " [-0.93515755 -0.47800584]\n",
      " [ 0.16252521 -0.11324254]\n",
      " [ 0.40206543  0.21903496]\n",
      " [-0.51925093  0.34511377]\n",
      " [-0.21742045  0.01388376]\n",
      " [-0.66458875 -0.84230409]]\n"
     ]
    },
    {
     "data": {
      "image/png": "[encoded data removed]",
      "text/plain": [
       "<matplotlib.figure.Figure at 0xcbb8f90>"
      ]
     },
     "metadata": {},
     "output_type": "display_data"
    }
   ],
   "source": [
    "# Import the LHS sampling method\n",
    "from smt.sampling import LHS\n",
    "import numpy as np\n",
    "import matplotlib.pyplot as plt\n",
    "%matplotlib inline  \n",
    "\n",
    "# Define the bounds of the design space , the number of dimension, and the number of sampling points\n",
    "dim, ndoe = 2, 20\n",
    "xlimits = np.zeros((dim, 2))\n",
    "xlimits[:, 0] = -1\n",
    "xlimits[:, 1] = 1\n",
    "\n",
    "# Construct the LHS sampling points with 'ese' criterion and store into x\n",
    "sampling = LHS(xlimits = xlimits, criterion = 'ese')\n",
    "x = sampling(ndoe)\n",
    "\n",
    "# Print results\n",
    "print(x)\n",
    "plt.figure()\n",
    "plt.plot(x[:,0],x[:,1],'.')\n",
    "plt.show()"
   ]
  },
  {
   "cell_type": "markdown",
   "metadata": {},
   "source": [
    "- Full factorial sampling"
   ]
  },
  {
   "cell_type": "code",
   "execution_count": 28,
   "metadata": {
    "collapsed": false
   },
   "outputs": [
    {
     "name": "stdout",
     "output_type": "stream",
     "text": [
      "[[-1.         -1.        ]\n",
      " [-1.         -0.33333333]\n",
      " [-1.          0.33333333]\n",
      " [-1.          1.        ]\n",
      " [-0.5        -1.        ]\n",
      " [-0.5        -0.33333333]\n",
      " [-0.5         0.33333333]\n",
      " [-0.5         1.        ]\n",
      " [ 0.         -1.        ]\n",
      " [ 0.         -0.33333333]\n",
      " [ 0.          0.33333333]\n",
      " [ 0.          1.        ]\n",
      " [ 0.5        -1.        ]\n",
      " [ 0.5        -0.33333333]\n",
      " [ 0.5         0.33333333]\n",
      " [ 0.5         1.        ]\n",
      " [ 1.         -1.        ]\n",
      " [ 1.         -0.33333333]\n",
      " [ 1.          0.33333333]\n",
      " [ 1.          1.        ]]\n"
     ]
    },
    {
     "data": {
      "image/png": "[encoded data removed]",
      "text/plain": [
       "<matplotlib.figure.Figure at 0xcbb8730>"
      ]
     },
     "metadata": {},
     "output_type": "display_data"
    }
   ],
   "source": [
    "# Import the full factorial sampling method\n",
    "from smt.sampling import FullFactorial\n",
    "import numpy as np\n",
    "import matplotlib.pyplot as plt\n",
    "%matplotlib inline  \n",
    "\n",
    "# Define the bounds of the design space , the number of dimension, and the number of sampling points\n",
    "dim, ndoe = 2, 20\n",
    "xlimits = np.zeros((dim, 2))\n",
    "xlimits[:, 0] = -1\n",
    "xlimits[:, 1] = 1\n",
    "\n",
    "# Construct the full factorial sampling points and store into x\n",
    "sampling = FullFactorial(xlimits = xlimits)\n",
    "x = sampling(ndoe)\n",
    "\n",
    "# Print results\n",
    "print(x)\n",
    "plt.figure()\n",
    "plt.plot(x[:,0],x[:,1],'.')\n",
    "plt.show()"
   ]
  },
  {
   "cell_type": "markdown",
   "metadata": {},
   "source": [
    "- Clustered sampling"
   ]
  },
  {
   "cell_type": "code",
   "execution_count": 1,
   "metadata": {
    "collapsed": false
   },
   "outputs": [
    {
     "ename": "AttributeError",
     "evalue": "'NoneType' object has no attribute 'options'",
     "output_type": "error",
     "traceback": [
      "\u001b[0;31m---------------------------------------------------------------------------\u001b[0m",
      "\u001b[0;31mAttributeError\u001b[0m                            Traceback (most recent call last)",
      "\u001b[0;32m<ipython-input-1-f61fee9d7cd7>\u001b[0m in \u001b[0;36m<module>\u001b[0;34m()\u001b[0m\n\u001b[1;32m     13\u001b[0m \u001b[0;31m# Construct the clustered sampling points and store into x\u001b[0m\u001b[0;34m\u001b[0m\u001b[0;34m\u001b[0m\u001b[0m\n\u001b[1;32m     14\u001b[0m \u001b[0msampling\u001b[0m \u001b[0;34m=\u001b[0m \u001b[0mClustered\u001b[0m\u001b[0;34m(\u001b[0m\u001b[0mxlimits\u001b[0m \u001b[0;34m=\u001b[0m \u001b[0mxlimits\u001b[0m\u001b[0;34m)\u001b[0m\u001b[0;34m\u001b[0m\u001b[0m\n\u001b[0;32m---> 15\u001b[0;31m \u001b[0mx\u001b[0m \u001b[0;34m=\u001b[0m \u001b[0msampling\u001b[0m\u001b[0;34m(\u001b[0m\u001b[0mndoe\u001b[0m\u001b[0;34m)\u001b[0m\u001b[0;34m\u001b[0m\u001b[0m\n\u001b[0m\u001b[1;32m     16\u001b[0m \u001b[0;34m\u001b[0m\u001b[0m\n\u001b[1;32m     17\u001b[0m \u001b[0;31m# Print results\u001b[0m\u001b[0;34m\u001b[0m\u001b[0;34m\u001b[0m\u001b[0m\n",
      "\u001b[0;32m/home/mbouhlel/Documents/SMT/smt/sampling/clustered.pyc\u001b[0m in \u001b[0;36m__call__\u001b[0;34m(self, n)\u001b[0m\n\u001b[1;32m     33\u001b[0m             \u001b[0mThe\u001b[0m \u001b[0msampling\u001b[0m \u001b[0mlocations\u001b[0m \u001b[0;32min\u001b[0m \u001b[0mthe\u001b[0m \u001b[0minput\u001b[0m \u001b[0mspace\u001b[0m\u001b[0;34m.\u001b[0m\u001b[0;34m\u001b[0m\u001b[0m\n\u001b[1;32m     34\u001b[0m         \"\"\"\n\u001b[0;32m---> 35\u001b[0;31m         \u001b[0mxlimits\u001b[0m \u001b[0;34m=\u001b[0m \u001b[0mself\u001b[0m\u001b[0;34m.\u001b[0m\u001b[0moptions\u001b[0m\u001b[0;34m[\u001b[0m\u001b[0;34m'kernel'\u001b[0m\u001b[0;34m]\u001b[0m\u001b[0;34m.\u001b[0m\u001b[0moptions\u001b[0m\u001b[0;34m[\u001b[0m\u001b[0;34m'xlimits'\u001b[0m\u001b[0;34m]\u001b[0m\u001b[0;34m\u001b[0m\u001b[0m\n\u001b[0m\u001b[1;32m     36\u001b[0m         \u001b[0mnx\u001b[0m \u001b[0;34m=\u001b[0m \u001b[0mxlimits\u001b[0m\u001b[0;34m.\u001b[0m\u001b[0mshape\u001b[0m\u001b[0;34m[\u001b[0m\u001b[0;36m0\u001b[0m\u001b[0;34m]\u001b[0m\u001b[0;34m\u001b[0m\u001b[0m\n\u001b[1;32m     37\u001b[0m         \u001b[0mx\u001b[0m \u001b[0;34m=\u001b[0m \u001b[0mself\u001b[0m\u001b[0;34m.\u001b[0m\u001b[0moptions\u001b[0m\u001b[0;34m[\u001b[0m\u001b[0;34m'kernel'\u001b[0m\u001b[0;34m]\u001b[0m\u001b[0;34m.\u001b[0m\u001b[0m_compute\u001b[0m\u001b[0;34m(\u001b[0m\u001b[0mn\u001b[0m\u001b[0;34m)\u001b[0m\u001b[0;34m\u001b[0m\u001b[0m\n",
      "\u001b[0;31mAttributeError\u001b[0m: 'NoneType' object has no attribute 'options'"
     ]
    }
   ],
   "source": [
    "# Import the clustered sampling method\n",
    "from smt.sampling import Clustered\n",
    "import numpy as np\n",
    "import matplotlib.pyplot as plt\n",
    "%matplotlib inline  \n",
    "\n",
    "# Define the bounds of the design space , the number of dimension, and the number of sampling points\n",
    "dim, ndoe = 2, 20\n",
    "xlimits = np.zeros((dim, 2))\n",
    "xlimits[:, 0] = -1\n",
    "xlimits[:, 1] = 1\n",
    "\n",
    "# Construct the clustered sampling points and store into x\n",
    "sampling = Clustered(xlimits = xlimits)\n",
    "x = sampling(ndoe)\n",
    "\n",
    "# Print results\n",
    "print(x)\n",
    "plt.figure()\n",
    "plt.plot(x[:,0],x[:,1],'.')\n",
    "plt.show()"
   ]
  }
 ],
 "metadata": {
  "kernelspec": {
   "display_name": "Python 3",
   "language": "python",
   "name": "python3"
  },
  "language_info": {
   "codemirror_mode": {
    "name": "ipython",
    "version": 3
   },
   "file_extension": ".py",
   "mimetype": "text/x-python",
   "name": "python",
   "nbconvert_exporter": "python",
   "pygments_lexer": "ipython3",
   "version": "3.6.0"
  }
 },
 "nbformat": 4,
 "nbformat_minor": 0
}
