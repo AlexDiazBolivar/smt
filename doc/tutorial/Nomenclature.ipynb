{
 "metadata": {
  "name": "",
  "signature": "sha256:200387e7bf84927b49a704bdf69c3cb6fdeea124c62b7f90a3cc7063df356037"
 },
 "nbformat": 3,
 "nbformat_minor": 0,
 "worksheets": [
  {
   "cells": [
    {
     "cell_type": "markdown",
     "metadata": {},
     "source": [
      "# Nomenclature\n",
      "\n",
      "Matrices and vectors are in bold type.\n",
      "\n",
      "|Symbol | Meaning|\n",
      "|---|---|\n",
      "|$d$ | Number of dimensions|\n",
      "|$n$| Number of sampling points|\n",
      "|$h$| Number of principal components|\n",
      "|${\\bf x}$| $1\\times d$ vector|\n",
      "|$x_j$| $j^{\\text{th}}$ element of ${\\bf x}$ for $j=1,\\dots,d$|\n",
      "|${\\bf X}$| $n\\times d$ matrix containing sampling points|\n",
      "|${\\bf x}^{(i)}$| $i^{\\text{th}}$ sampling point for $i=1,\\dots,n$ ($1\\times d$ vector)|\n",
      "|$y$|The objective function|\n",
      "|${\\bf y}$| $n\\times 1$ vector containing simulation of ${\\bf X}$, i.e. $y({\\bf x}^{(1)}) = y_1,\\dotsc,y({\\bf x}^{(n)}) = y_n$|"
     ]
    }
   ],
   "metadata": {}
  }
 ]
}