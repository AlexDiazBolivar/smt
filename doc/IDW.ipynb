{
 "metadata": {
  "kernelspec": {
   "display_name": "Python 2",
   "language": "python",
   "name": "python2"
  },
  "language_info": {
   "codemirror_mode": {
    "name": "ipython",
    "version": 2
   },
   "file_extension": ".py",
   "mimetype": "text/x-python",
   "name": "python",
   "nbconvert_exporter": "python",
   "pygments_lexer": "ipython2",
   "version": "2.7.12"
  },
  "name": "",
  "signature": "sha256:9565d2e2620f57cfc88d6480fcb414217a124e4d574599e68bf4d83a6ba8a65f"
 },
 "nbformat": 3,
 "nbformat_minor": 0,
 "worksheets": [
  {
   "cells": [
    {
     "cell_type": "markdown",
     "metadata": {},
     "source": [
      "# The Inverse Distance Weighting model\n",
      "######[Nomenclature](./nomenclature.html)\n",
      "\n",
      "The inverse distance weighting model is an interpolating method and the unknown points are calculated with a weighted average of the sampling points.\n",
      "\n",
      "The prediction value $\\hat{y}$ at a given unknown point $\\bf x$ using the samples ${\\bf y}$ is given by\n",
      "\n",
      "\\begin{equation}\n",
      "\\hat{y}=\n",
      "\\left\\{\n",
      "\\begin{array}{ll}\n",
      "\\frac{\\sum\\limits_{i=1}^n\\beta_iy_i}{\\sum\\limits_{i=1}^n\\beta_i},&\\text{if}\\quad d({\\bf x},{\\bf x}^{(i)})\\neq 0 \\quad \\forall i\\\\\n",
      "y_i&\\text{if}\\quad d({\\bf x},{\\bf x}^{(i)})= 0\n",
      "\\end{array}\n",
      "\\right.\n",
      "\\end{equation}\n",
      "\n",
      "where $\\beta_i = \\frac{1}{d({\\bf x},{{\\bf x}^{(i)}})^p}$ with $p$ a positive real number, called the power parameter.\n",
      "\n",
      "## Options\n",
      "\n",
      "| Option | Default | Acceptable values | Acceptable types | Description |\n",
      "| - | - | - | - | - |\n",
      "| data_dir | None | None | ['str'] | Directory for loading / saving cached data; None means do not save or load |\n",
      "| print_solver | True | None | ['bool'] | Whether to print solver information |\n",
      "| print_problem | True | None | ['bool'] | Whether to print problem information |\n",
      "| print_global | True | None | ['bool'] | Global print toggle. If False, all printing is suppressed |\n",
      "| p | 2.5 | None | ['int', 'float'] | order of distance norm |\n",
      "| print_training | True | None | ['bool'] | Whether to print training information |\n",
      "| print_prediction | True | None | ['bool'] | Whether to print prediction information |\n",
      "\n",
      "## Example code"
     ]
    },
    {
     "cell_type": "code",
     "collapsed": false,
     "input": [
      "from __future__ import print_function, division\n",
      "import numpy as np\n",
      "from smt.methods.idw import IDW\n",
      "from scipy import linalg\n",
      "from smt.problems import Sphere\n",
      "from smt.sampling import LHS\n",
      "\n",
      "\n",
      "# Initialization of the problem\n",
      "ndim = 10\n",
      "ndoe = int(10*ndim)\n",
      "\n",
      "# Define the function\n",
      "fun = Sphere(ndim = ndim)\n",
      "\n",
      "# Construction of the DOE\n",
      "sampling = LHS(xlimits=fun.xlimits,criterion = 'm')\n",
      "xt = sampling(ndoe)\n",
      "\n",
      "# Compute the output\n",
      "yt = fun(xt)\n",
      "# Compute the gradient\n",
      "for i in range(ndim):\n",
      "    yd = fun(xt,kx=i)\n",
      "    yt = np.concatenate((yt,yd),axis=1)\n",
      "\n",
      "# Construction of the validation points\n",
      "ntest = 500\n",
      "sampling = LHS(xlimits=fun.xlimits)\n",
      "xtest = sampling(ntest)\n",
      "ytest = fun(xtest)\n",
      "\n",
      "########### The IDW model\n",
      "t = IDW()\n",
      "t.set_training_values(xt,yt[:,0])\n",
      "t.train()\n",
      "y = t.predict_values(xtest)\n",
      "\n",
      "print('IDW,  err: '+str(linalg.norm(y.reshape((ntest,1))-ytest.reshape((ntest,\n",
      "            1)))/linalg.norm(ytest.reshape((ntest,1)))))\n"
     ],
     "language": "python",
     "metadata": {},
     "outputs": [
      {
       "output_type": "stream",
       "stream": "stdout",
       "text": [
        "___________________________________________________________________________\n",
        "   \n",
        "                                    IDW\n",
        "___________________________________________________________________________\n",
        "   \n",
        " Problem size\n",
        "   \n",
        "      # training points.        : 100\n",
        "   \n",
        "___________________________________________________________________________\n",
        "   \n",
        " Training\n",
        "   \n",
        "   Training ...\n",
        "   Training - done. Time (sec):  0.0014479\n",
        "___________________________________________________________________________\n",
        "   \n",
        " Evaluation\n",
        "   \n",
        "      # eval points. : 500\n",
        "   \n",
        "   Predicting ...\n",
        "   Predicting - done. Time (sec):  0.0268512\n",
        "   \n",
        "   Prediction time/pt. (sec) :  0.0000537\n",
        "   \n",
        "IDW,  err: 0.268673322179\n"
       ]
      }
     ],
     "prompt_number": 1
    }
   ],
   "metadata": {}
  }
 ]
}