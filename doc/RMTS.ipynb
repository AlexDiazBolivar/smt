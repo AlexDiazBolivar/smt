{
 "cells": [
  {
   "cell_type": "markdown",
   "metadata": {},
   "source": [
    "# RMTS"
   ]
  },
  {
   "cell_type": "markdown",
   "metadata": {},
   "source": [
    "# Options\n",
    "\n",
    "| Option | Default | Acceptable values | Acceptable types | Description |\n",
    "| - | - | - | - | - |\n",
    "| print_global | True | None | ['bool'] | Global print toggle. If False, all printing is suppressed |\n",
    "| print_training | True | None | ['bool'] | Whether to print training information |\n",
    "| print_prediction | True | None | ['bool'] | Whether to print prediction information |\n",
    "| print_problem | True | None | ['bool'] | Whether to print problem information |\n",
    "| print_solver | True | None | ['bool'] | Whether to print solver information |\n",
    "| xlimits | None | None | ['ndarray'] | Lower/upper bounds in each dimension - ndarray [nx, 2] |\n",
    "| smoothness | 1.0 | None | ['Integral', 'float', 'tuple', 'list', 'ndarray'] | Smoothness parameter in each dimension - length nx. None implies uniform |\n",
    "| reg_dv | 1e-10 | None | ['Integral', 'float'] | Regularization coeff. for system degrees of freedom. This ensures there is always a unique solution |\n",
    "| reg_cons | 0.0001 | None | ['Integral', 'float'] | Negative of the regularization coeff. of the Lagrange mult. block The weight of the energy terms (and reg_dv) relative to the approx terms |\n",
    "| extrapolate | False | None | ['bool'] | Whether to perform linear extrapolation for external evaluation points |\n",
    "| min_energy | True | None | ['bool'] | Whether to perform energy minimization |\n",
    "| approx_order | 4 | None | ['Integral'] | Exponent in the approximation term |\n",
    "| mtx_free | False | None | ['bool'] | Whether to solve the linear system in a matrix-free way |\n",
    "| solver | krylov | ('krylov-dense', 'dense-lu', 'dense-chol', 'lu', 'ilu', 'krylov', 'krylov-lu', 'krylov-mg', 'gs', 'jacobi', 'mg', 'null') | ['LinearSolver'] | Linear solver |\n",
    "| grad_weight | 0.5 | None | ['Integral', 'float'] | Weight on gradient training data |\n",
    "| nln_max_iter | 5 | None | ['Integral'] | maximum number of nonlinear iterations |\n",
    "| line_search | backtracking | ('backtracking', 'bracketed', 'quadratic', 'cubic', 'null') | ['LineSearch'] | Line search algorithm |\n",
    "| save_energy_terms | False | None | ['bool'] | Whether to cache energy terms in the data_dir directory |\n",
    "| data_dir | None | (None,) | ['str'] | Directory for loading / saving cached data; None means do not save or load |\n",
    "| max_print_depth | 5 | None | ['Integral'] | Maximum depth (level of nesting) to print operation descriptions and times |\n",
    "| name | RMTB | None | ['str'] | Regularized Minimal-energy Tensor-product B-spline interpolant |\n",
    "| order | 3 | None | ['Integral', 'tuple', 'list', 'ndarray'] | B-spline order in each dimension - length [nx] |\n",
    "| num_ctrl_pts | 15 | None | ['Integral', 'tuple', 'list', 'ndarray'] | # B-spline control points in each dimension - length [nx] |"
   ]
  },
  {
   "cell_type": "code",
   "execution_count": null,
   "metadata": {
    "collapsed": true
   },
   "outputs": [],
   "source": []
  }
 ],
 "metadata": {
  "kernelspec": {
   "display_name": "Python 2",
   "language": "python",
   "name": "python2"
  },
  "language_info": {
   "codemirror_mode": {
    "name": "ipython",
    "version": 2
   },
   "file_extension": ".py",
   "mimetype": "text/x-python",
   "name": "python",
   "nbconvert_exporter": "python",
   "pygments_lexer": "ipython2",
   "version": "2.7.12"
  }
 },
 "nbformat": 4,
 "nbformat_minor": 1
}
