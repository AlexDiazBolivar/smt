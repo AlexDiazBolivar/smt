{
 "metadata": {
  "name": "",
  "signature": "sha256:8466d319c94d33e11534ac34d71179d56c247ef057b6ec3981c0584523b236a6"
 },
 "nbformat": 3,
 "nbformat_minor": 0,
 "worksheets": [
  {
   "cells": [
    {
     "cell_type": "code",
     "collapsed": false,
     "input": [],
     "language": "python",
     "metadata": {},
     "outputs": []
    }
   ],
   "metadata": {}
  }
 ]
}