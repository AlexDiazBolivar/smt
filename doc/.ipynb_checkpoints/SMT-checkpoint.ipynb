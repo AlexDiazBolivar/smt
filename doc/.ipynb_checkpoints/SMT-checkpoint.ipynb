{
 "metadata": {
  "anaconda-cloud": {},
  "kernelspec": {
   "display_name": "Python [default]",
   "language": "python",
   "name": "python2"
  },
  "language_info": {
   "codemirror_mode": {
    "name": "ipython",
    "version": 2
   },
   "file_extension": ".py",
   "mimetype": "text/x-python",
   "name": "python",
   "nbconvert_exporter": "python",
   "pygments_lexer": "ipython2",
   "version": "2.7.12"
  },
  "name": "",
  "signature": "sha256:46045250868264cc2aef5e3ed7771c72ffd76b9de399cf669bdd7167fb828d3a"
 },
 "nbformat": 3,
 "nbformat_minor": 0,
 "worksheets": [
  {
   "cells": [
    {
     "cell_type": "heading",
     "level": 1,
     "metadata": {
      "slideshow": {
       "slide_type": "slide"
      }
     },
     "source": [
      "SMT: A Python Surrogate Model Toolbox"
     ]
    },
    {
     "cell_type": "markdown",
     "metadata": {},
     "source": [
      "## preamble\n",
      "<img src=\"files/grie5.png\" style=\"margin: 0px 0px 5px 20px; width: 10cm; float: right;\" title=\"Example surrogate model\"/>\n",
      "SMT, surrogate model toolbox, is a Python toolbox that includes several surrogate models---least square (ls), square polynomial (pa2), inverse distance weighting (idw), kriging (krg), PLS-based models (kpls, kplsk and gekpls), radial basis functions (rbf) and Regularized Minimal-energy Tensor-product Spline (rmts).\n",
      "\n",
      "In addition to the different sampling point methods available in SMT, many well-known analytical and engineering test functions are implemented too. Other alternative methods could be easily implemented and added into SMT. \n",
      "Therefore, this package is devoted to gathering several types of surrogate models within the same platform, for providing a benchmark to the engineering field. Another purpose of the SMT is for research purposes and contributing to the literature on the surrogate modeling."
     ]
    },
    {
     "cell_type": "heading",
     "level": 2,
     "metadata": {},
     "source": [
      "Version 0.1"
     ]
    },
    {
     "cell_type": "markdown",
     "metadata": {},
     "source": [
      "## Availability\n",
      "The toolbox is available for free. It could be used for commercial, research purposes, or both.\n",
      "\n",
      "[To download the package](https://github.com/SMTorg/SMT)"
     ]
    },
    {
     "cell_type": "markdown",
     "metadata": {},
     "source": [
      "## Organisation of SMT\n",
      "SMT is mainly composed of four subdirectories:\n",
      "\n",
      "###<font color='blue'> 1) utils</font>\n",
      "This directory contains some auxiliaries functions used by the surrogate models implemented in SMT.\n",
      "\n",
      "###<font color='blue'> 2) problems</font>\n",
      "This directory ([problems](./problems.html)) contains all analytical and engineering functions available in SMT.\n",
      "\n",
      "###<font color='blue'> 3) sampling</font>\n",
      "This directory contains all sampling methods available in SMT (give URL here).\n",
      "\n",
      "###<font color='blue'> 4) methods</font>\n",
      "This directory contains all surrogate models available in SMT (give URL here).\n",
      "\n",
      "[Quick tutorial](./tutorial_2.html)\n",
      "\n",
      "[KPLS](http://link.springer.com/article/10.1007/s00158-015-1395-9)\n",
      "\n",
      "[KPLSK](https://www.hindawi.com/journals/mpe/2016/6723410/)"
     ]
    },
    {
     "cell_type": "heading",
     "level": 3,
     "metadata": {
      "collapsed": true
     },
     "source": [
      "Poeple involved"
     ]
    },
    {
     "cell_type": "markdown",
     "metadata": {},
     "source": [
      "SMT is maintained by \n",
      "\n",
      "Mohamed Amine Bouhlel &nbsp;&nbsp;&nbsp; mbouhlel@umich.edu\n",
      "\n",
      "John Hwang &nbsp;&nbsp;&nbsp;&nbsp;&nbsp;&nbsp;&nbsp;&nbsp;&nbsp;&nbsp;&nbsp;&nbsp;&nbsp;&nbsp;&nbsp;&nbsp;&nbsp;&nbsp;&nbsp;&nbsp;&nbsp;&nbsp;&nbsp; hwangjt@umich.edu\n",
      "\n",
      "Nathalie Bartoli &nbsp;&nbsp;&nbsp;&nbsp;&nbsp;&nbsp;&nbsp;&nbsp;&nbsp;&nbsp;&nbsp;&nbsp;&nbsp;&nbsp;&nbsp;&nbsp;&nbsp;&nbsp;&nbsp; nathalie.bartoli@onera.fr"
     ]
    },
    {
     "cell_type": "heading",
     "level": 6,
     "metadata": {},
     "source": [
      "Last update June 15, 2017"
     ]
    }
   ],
   "metadata": {}
  }
 ]
}