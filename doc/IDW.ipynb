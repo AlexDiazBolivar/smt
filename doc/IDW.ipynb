{
 "metadata": {
  "name": "",
  "signature": "sha256:839b71ed9ed5ecd96af05035bed6a8a1d1416e3049ee89540c57b7f0a00296be"
 },
 "nbformat": 3,
 "nbformat_minor": 0,
 "worksheets": [
  {
   "cells": [
    {
     "cell_type": "markdown",
     "metadata": {},
     "source": [
      "# The Inverse Distance Weighting model\n",
      "\n",
      "The inverse distance weighting model is an interpolating method and the unknown points are calculated with a weighted average of the available points.\n",
      "\n",
      "The unknown value $\\hat{y}$ at a given point $x$ using the samples $y(x^{(1)}) = y_1,\\dotsc,y(x^{(n)}) = y_n$ (the available points) is given by\n",
      "\\begin{equation}\n",
      "\\hat{y}=\n",
      "\\left\\{\n",
      "\\begin{array}{ll}\n",
      "\\frac{\\sum\\limits_{i=1}^nu_iyi}{\\sum\\limits_{i=1}^nu_i},&\\text{if}\\quad d(x,x^{(i)})\\neq 0 \\quad \\forall i\\\\\n",
      "y_i&\\text{if}\\quad d(x,x^{(i)})= 0\n",
      "\\end{array}\n",
      "\\right.\n",
      "\\end{equation}\n",
      "where $u_i = \\frac{1}{d(x,x_i)^p}$ with $p$ a positive real number, called the power parameter.\n",
      "\n",
      "## Options\n",
      "\n",
      "Automatically generated list of options, their types, default values, and descriptions from the code\n",
      "\n",
      "## Example code"
     ]
    },
    {
     "cell_type": "code",
     "collapsed": false,
     "input": [
      "from __future__ import print_function, division\n",
      "import numpy as np\n",
      "from smt.methods.idw import IDW\n",
      "from scipy import linalg\n",
      "from smt.problems import Sphere\n",
      "from smt.sampling import LHS\n",
      "\n",
      "\n",
      "# Initialization of the problem\n",
      "ndim = 10\n",
      "ndoe = int(10*ndim)\n",
      "\n",
      "# Define the function\n",
      "fun = Sphere(ndim = ndim)\n",
      "\n",
      "# Construction of the DOE\n",
      "sampling = LHS(xlimits=fun.xlimits,criterion = 'm')\n",
      "xt = sampling(ndoe)\n",
      "\n",
      "# Compute the output\n",
      "yt = fun(xt)\n",
      "# Compute the gradient\n",
      "for i in range(ndim):\n",
      "    yd = fun(xt,kx=i)\n",
      "    yt = np.concatenate((yt,yd),axis=1)\n",
      "\n",
      "# Construction of the validation points\n",
      "ntest = 500\n",
      "sampling = LHS(xlimits=fun.xlimits)\n",
      "xtest = sampling(ntest)\n",
      "ytest = fun(xtest)\n",
      "\n",
      "########### The IDW model\n",
      "t = IDW()\n",
      "t.add_training_points('exact',xt,yt[:,0])\n",
      "t.train()\n",
      "y = t.predict_value(xtest)\n",
      "\n",
      "print('IDW,  err: '+str(linalg.norm(y.reshape((ntest,1))-ytest.reshape((ntest,\n",
      "            1)))/linalg.norm(ytest.reshape((ntest,1)))))\n"
     ],
     "language": "python",
     "metadata": {},
     "outputs": [
      {
       "ename": "ImportError",
       "evalue": "cannot import name IDWlib",
       "output_type": "pyerr",
       "traceback": [
        "\u001b[1;31m---------------------------------------------------------------------------\u001b[0m\n\u001b[1;31mImportError\u001b[0m                               Traceback (most recent call last)",
        "\u001b[1;32m<ipython-input-1-3c76581b86f4>\u001b[0m in \u001b[0;36m<module>\u001b[1;34m()\u001b[0m\n\u001b[0;32m      1\u001b[0m \u001b[1;32mfrom\u001b[0m \u001b[0m__future__\u001b[0m \u001b[1;32mimport\u001b[0m \u001b[0mprint_function\u001b[0m\u001b[1;33m,\u001b[0m \u001b[0mdivision\u001b[0m\u001b[1;33m\u001b[0m\u001b[0m\n\u001b[0;32m      2\u001b[0m \u001b[1;32mimport\u001b[0m \u001b[0mnumpy\u001b[0m \u001b[1;32mas\u001b[0m \u001b[0mnp\u001b[0m\u001b[1;33m\u001b[0m\u001b[0m\n\u001b[1;32m----> 3\u001b[1;33m \u001b[1;32mfrom\u001b[0m \u001b[0msmt\u001b[0m\u001b[1;33m.\u001b[0m\u001b[0mmethods\u001b[0m\u001b[1;33m.\u001b[0m\u001b[0midw\u001b[0m \u001b[1;32mimport\u001b[0m \u001b[0mIDW\u001b[0m\u001b[1;33m\u001b[0m\u001b[0m\n\u001b[0m\u001b[0;32m      4\u001b[0m \u001b[1;32mfrom\u001b[0m \u001b[0mscipy\u001b[0m \u001b[1;32mimport\u001b[0m \u001b[0mlinalg\u001b[0m\u001b[1;33m\u001b[0m\u001b[0m\n\u001b[0;32m      5\u001b[0m \u001b[1;32mfrom\u001b[0m \u001b[0msmt\u001b[0m\u001b[1;33m.\u001b[0m\u001b[0mproblems\u001b[0m \u001b[1;32mimport\u001b[0m \u001b[0mSphere\u001b[0m\u001b[1;33m\u001b[0m\u001b[0m\n",
        "\u001b[1;32mc:\\users\\mohamedamine\\documents\\smt\\smt\\methods\\idw.py\u001b[0m in \u001b[0;36m<module>\u001b[1;34m()\u001b[0m\n\u001b[0;32m     14\u001b[0m \u001b[1;32mfrom\u001b[0m \u001b[0msmt\u001b[0m\u001b[1;33m.\u001b[0m\u001b[0mutils\u001b[0m\u001b[1;33m.\u001b[0m\u001b[0mcaching\u001b[0m \u001b[1;32mimport\u001b[0m \u001b[0mcached_operation\u001b[0m\u001b[1;33m\u001b[0m\u001b[0m\n\u001b[0;32m     15\u001b[0m \u001b[1;33m\u001b[0m\u001b[0m\n\u001b[1;32m---> 16\u001b[1;33m \u001b[1;32mfrom\u001b[0m \u001b[0msmt\u001b[0m\u001b[1;33m.\u001b[0m\u001b[0mmethods\u001b[0m \u001b[1;32mimport\u001b[0m \u001b[0mIDWlib\u001b[0m\u001b[1;33m\u001b[0m\u001b[0m\n\u001b[0m\u001b[0;32m     17\u001b[0m \u001b[1;33m\u001b[0m\u001b[0m\n\u001b[0;32m     18\u001b[0m \u001b[1;33m\u001b[0m\u001b[0m\n",
        "\u001b[1;31mImportError\u001b[0m: cannot import name IDWlib"
       ]
      }
     ],
     "prompt_number": 1
    }
   ],
   "metadata": {}
  }
 ]
}