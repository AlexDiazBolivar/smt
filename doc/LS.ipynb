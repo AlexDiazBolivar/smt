{
 "metadata": {
  "kernelspec": {
   "display_name": "Python 2",
   "language": "python",
   "name": "python2"
  },
  "language_info": {
   "codemirror_mode": {
    "name": "ipython",
    "version": 2
   },
   "file_extension": ".py",
   "mimetype": "text/x-python",
   "name": "python",
   "nbconvert_exporter": "python",
   "pygments_lexer": "ipython2",
   "version": "2.7.12"
  },
  "name": "",
  "signature": "sha256:73b5930203c50969afc2983ac1222a47052d82e0bdd5098e0cd0c3f24c18d5bf"
 },
 "nbformat": 3,
 "nbformat_minor": 0,
 "worksheets": [
  {
   "cells": [
    {
     "cell_type": "markdown",
     "metadata": {},
     "source": [
      "# The Least Squares model\n",
      "######[Nomenclature](./nomenclature.html)\n",
      "\n",
      "The following description is taken from scikit-learn version 0.18.2 (http://scikit-learn.org/stable/modules/linear_model.html).\n",
      "\n",
      "The Least Squares method fits a linear model with coefficients ${\\bf \\beta} = \\left(\\beta_0, \\beta_1,\\dotsc,\\beta_d\\right)$ to minimize the residual sum of squares between the observed responses in the dataset, and the responses predicted by the linear approximation.\n",
      "Mathematically it solves a problem of the form:\n",
      "\n",
      "\\begin{equation}\n",
      "\\min_\\limits{{\\bf \\beta}}||{\\bf X\\beta-y}||_2^2,\n",
      "\\end{equation}\n",
      "Where ${\\bf X} = \\left(1,{{\\bf x}^{(1)}}^T,\\dots,{{\\bf x}^{(n)}}^T\\right)^T$ with dimensions ($n\\times d+1$).\n",
      "\n",
      "\n",
      "<img src=\"files/least_squares.png\"/>\n",
      "\n",
      "## Options\n",
      "\n",
      "| Option | Default | Acceptable values | Acceptable types | Description |\n",
      "| - | - | - | - | - |\n",
      "| data_dir | None | None | ['str'] | Directory for loading / saving cached data; None means do not save or load |\n",
      "| print_solver | True | None | ['bool'] | Whether to print solver information |\n",
      "| print_problem | True | None | ['bool'] | Whether to print problem information |\n",
      "| print_global | True | None | ['bool'] | Global print toggle. If False, all printing is suppressed |\n",
      "| print_training | True | None | ['bool'] | Whether to print training information |\n",
      "| print_prediction | True | None | ['bool'] | Whether to print prediction information |\n",
      "\n",
      "## Example code"
     ]
    },
    {
     "cell_type": "code",
     "collapsed": false,
     "input": [
      "from __future__ import print_function, division\n",
      "import numpy as np\n",
      "from smt.methods.ls import LS\n",
      "from scipy import linalg\n",
      "from smt.problems import Sphere\n",
      "from smt.sampling import LHS\n",
      "\n",
      "\n",
      "# Initialization of the problem\n",
      "ndim = 10\n",
      "ndoe = int(10*ndim)\n",
      "\n",
      "# Define the function\n",
      "fun = Sphere(ndim = ndim)\n",
      "\n",
      "# Construction of the DOE\n",
      "sampling = LHS(xlimits=fun.xlimits,criterion = 'm')\n",
      "xt = sampling(ndoe)\n",
      "\n",
      "# Compute the output\n",
      "yt = fun(xt)\n",
      "# Compute the gradient\n",
      "for i in range(ndim):\n",
      "    yd = fun(xt,kx=i)\n",
      "    yt = np.concatenate((yt,yd),axis=1)\n",
      "\n",
      "# Construction of the validation points\n",
      "ntest = 500\n",
      "sampling = LHS(xlimits=fun.xlimits)\n",
      "xtest = sampling(ntest)\n",
      "ytest = fun(xtest)\n",
      "\n",
      "########### The LS model\n",
      "\n",
      "# Initialization of the model\n",
      "t = LS()\n",
      "# Add the DOE\n",
      "t.add_training_points('exact',xt,yt[:,0])\n",
      "# Train the model\n",
      "t.train()\n",
      "# Prediction of the validation points\n",
      "y = t.predict_value(xtest)\n",
      "\n",
      "print('LS,  err: '+str(linalg.norm(y.reshape((ntest,1))-ytest.reshape((ntest,\n",
      "            1)))/linalg.norm(ytest.reshape((ntest,1)))))\n",
      "\n"
     ],
     "language": "python",
     "metadata": {},
     "outputs": [
      {
       "output_type": "stream",
       "stream": "stdout",
       "text": [
        "___________________________________________________________________________\n",
        "   \n",
        "                                    LS\n",
        "___________________________________________________________________________\n",
        "   \n",
        " Problem size\n",
        "   \n",
        "      # training points.        : 100\n",
        "   \n",
        "___________________________________________________________________________\n",
        "   \n",
        " Training\n",
        "   \n",
        "   Training ...\n",
        "   Training - done. Time (sec):  0.0440001\n",
        "___________________________________________________________________________\n",
        "   \n",
        " Evaluation\n",
        "   \n",
        "      # eval points. : 500\n",
        "   \n",
        "   Predicting ...\n",
        "   Predicting - done. Time (sec):  0.0109999"
       ]
      },
      {
       "output_type": "stream",
       "stream": "stdout",
       "text": [
        "\n",
        "   \n",
        "   Prediction time/pt. (sec) :  0.0000220\n",
        "   \n",
        "LS,  err: 0.284956207388\n"
       ]
      }
     ],
     "prompt_number": 1
    }
   ],
   "metadata": {}
  }
 ]
}