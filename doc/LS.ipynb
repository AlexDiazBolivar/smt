{
 "metadata": {
  "name": "",
  "signature": "sha256:c5926ca04d190afddcda52dac9b55dc2cb95a8545e487e3c1f2554c163fe951c"
 },
 "nbformat": 3,
 "nbformat_minor": 0,
 "worksheets": [
  {
   "cells": [
    {
     "cell_type": "markdown",
     "metadata": {},
     "source": [
      "TODO: fill options\n",
      "# The Least Squares model\n",
      "\n",
      "The following description is taken from scikit-learn version 0.18.2 (http://scikit-learn.org/stable/modules/linear_model.html).\n",
      "\n",
      "The Least Squares method fits a linear model with coefficients $w = \\left(w_1,\\dotsc,w_p\\right)$ to minimize the residual sum of squares between the observed responses in the dataset, and the responses predicted by the linear approximation.\n",
      "Mathematically it solves a problem of the form:\n",
      "\n",
      "\\begin{equation}\n",
      "\\min_\\limits{w}||Xw-y||_2^2\n",
      "\\end{equation}\n",
      "\n",
      "<img src=\"files/least_squares.png\"/>\n",
      "\n",
      "## Options\n",
      "\n",
      "Automatically generated list of options, their types, default values, and descriptions from the code\n",
      "\n",
      "## Example code"
     ]
    },
    {
     "cell_type": "code",
     "collapsed": false,
     "input": [
      "from __future__ import print_function, division\n",
      "import numpy as np\n",
      "from smt.methods.ls import LS\n",
      "from scipy import linalg\n",
      "from smt.problems import Sphere\n",
      "from smt.sampling import LHS\n",
      "\n",
      "\n",
      "# Initialization of the problem\n",
      "ndim = 10\n",
      "ndoe = int(10*ndim)\n",
      "\n",
      "# Define the function\n",
      "fun = Sphere(ndim = ndim)\n",
      "\n",
      "# Construction of the DOE\n",
      "sampling = LHS(xlimits=fun.xlimits,criterion = 'm')\n",
      "xt = sampling(ndoe)\n",
      "\n",
      "# Compute the output\n",
      "yt = fun(xt)\n",
      "# Compute the gradient\n",
      "for i in range(ndim):\n",
      "    yd = fun(xt,kx=i)\n",
      "    yt = np.concatenate((yt,yd),axis=1)\n",
      "\n",
      "# Construction of the validation points\n",
      "ntest = 500\n",
      "sampling = LHS(xlimits=fun.xlimits)\n",
      "xtest = sampling(ntest)\n",
      "ytest = fun(xtest)\n",
      "\n",
      "########### The LS model\n",
      "\n",
      "# Initialization of the model\n",
      "t = LS()\n",
      "# Add the DOE\n",
      "t.add_training_points('exact',xt,yt[:,0])\n",
      "# Train the model\n",
      "t.train()\n",
      "# Prediction of the validation points\n",
      "y = t.predict(xtest)\n",
      "\n",
      "print('LS,  err: '+str(linalg.norm(y.reshape((ntest,1))-ytest.reshape((ntest,\n",
      "            1)))/linalg.norm(ytest.reshape((ntest,1)))))\n",
      "\n"
     ],
     "language": "python",
     "metadata": {},
     "outputs": [
      {
       "output_type": "stream",
       "stream": "stdout",
       "text": [
        "___________________________________________________________________________\n",
        "   \n",
        "                                    LS\n",
        "___________________________________________________________________________\n",
        "   \n",
        " Problem size\n",
        "   \n",
        "      # training points.        : 100\n",
        "   \n",
        "___________________________________________________________________________\n",
        "   \n",
        " Training\n",
        "   \n",
        "   Training ...\n",
        "   Training - done. Time (sec):  0.0200000\n",
        "___________________________________________________________________________\n",
        "   \n",
        " Evaluation\n",
        "   \n",
        "      # eval points. : 500\n",
        "   \n",
        "   Predicting ...\n",
        "   Predicting - done. Time (sec):  0.0079999\n",
        "   \n",
        "   Prediction time/pt. (sec) :  0.0000160\n",
        "   \n",
        "LS,  err: 0.279403348712"
       ]
      },
      {
       "output_type": "stream",
       "stream": "stdout",
       "text": [
        "\n"
       ]
      }
     ],
     "prompt_number": 1
    }
   ],
   "metadata": {}
  }
 ]
}